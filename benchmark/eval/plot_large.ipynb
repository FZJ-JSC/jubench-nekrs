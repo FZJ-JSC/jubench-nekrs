{
 "cells": [
  {
   "cell_type": "code",
   "execution_count": null,
   "id": "803e2209-6c21-41d3-b2a8-75f2c53b709f",
   "metadata": {},
   "outputs": [],
   "source": [
    "import pandas as pd\n",
    "import matplotlib.pyplot as plt\n",
    "import seaborn as sns\n",
    "\n",
    "%matplotlib inline\n",
    "sns.set_style(\"darkgrid\")"
   ]
  },
  {
   "cell_type": "code",
   "execution_count": null,
   "id": "910989cb-f72c-4451-afcb-b5efcd4ae209",
   "metadata": {},
   "outputs": [],
   "source": [
    "path = \"../data/JUWELS-Booster/weak_scaling.dat\"\n",
    "\n",
    "values = pd.read_csv(path, index_col=\"nodes\")\n",
    "values.sort_index(inplace=True)"
   ]
  },
  {
   "cell_type": "code",
   "execution_count": null,
   "id": "a2d9dcb3-98a6-4ff2-b2bf-d22e627ea3d5",
   "metadata": {},
   "outputs": [],
   "source": [
    "values[\"small\"] =  values[\"small\"].iloc[0]  / values[\"small\"]\n",
    "values[\"medium\"] = values[\"medium\"].iloc[0] / values[\"medium\"]\n",
    "values[\"large\"] =  values[\"large\"].iloc[0]  / values[\"large\"]\n",
    "values"
   ]
  },
  {
   "cell_type": "code",
   "execution_count": null,
   "id": "791efbe2-ab78-4edd-9f46-170dfc034a50",
   "metadata": {},
   "outputs": [],
   "source": [
    "# Solve time plot\n",
    "\n",
    "plt.figure(figsize=(10,7))\n",
    "plt.xticks((1, 32, 64, 128, 256, 512, 642, 768, 820))\n",
    "plt.ylim(-0.1, 1.1)\n",
    "plt.xlabel(\"# of nodes\")\n",
    "plt.ylabel(\"Speedup\")\n",
    "\n",
    "plt.plot(values.index, values[\"small\"],  marker=\"o\", linestyle=\"solid\",  label=\"Small\")   # Plot small run\n",
    "plt.plot(values.index, values[\"medium\"], marker=\"o\", linestyle=\"solid\",  label=\"Medium\")  # Plot small medium\n",
    "plt.plot(values.index, values[\"large\"],  marker=\"o\", linestyle=\"solid\",  label=\"Large\")   # Plot small large\n",
    "plt.axhline(1,     color=\"black\",                    linestyle=\"dashed\", label=\"Ideal\")   # Plot ideal\n",
    "plt.legend()\n",
    "\n",
    "plt.savefig(\"scaling.svg\", format=\"svg\")"
   ]
  },
  {
   "cell_type": "code",
   "execution_count": null,
   "id": "6904dfde-b148-4d4b-8df6-b076f0eb24eb",
   "metadata": {},
   "outputs": [],
   "source": []
  }
 ],
 "metadata": {
  "kernelspec": {
   "display_name": "Python 3 (ipykernel)",
   "language": "python",
   "name": "python3"
  },
  "language_info": {
   "codemirror_mode": {
    "name": "ipython",
    "version": 3
   },
   "file_extension": ".py",
   "mimetype": "text/x-python",
   "name": "python",
   "nbconvert_exporter": "python",
   "pygments_lexer": "ipython3",
   "version": "3.9.6"
  }
 },
 "nbformat": 4,
 "nbformat_minor": 5
}
